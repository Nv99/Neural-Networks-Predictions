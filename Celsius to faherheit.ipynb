{
 "cells": [
  {
   "cell_type": "code",
   "execution_count": 2,
   "metadata": {},
   "outputs": [
    {
     "name": "stdout",
     "output_type": "stream",
     "text": [
      "The  model is Trained\n",
      "[[89.48689]]\n",
      "These are the l0variebles : [array([[ 0.05999725, -0.10849455, -0.02235686, -0.8217082 ]],\n",
      "      dtype=float32), array([-2.6549292,  1.3065306,  2.0509293, -2.9779458], dtype=float32)]\n",
      "These are the l1variebles : [array([[ 1.6547085e-01, -1.0771017e+00,  2.9365304e-01, -2.6230910e-01],\n",
      "       [ 2.5752226e-01,  9.6492982e-01,  4.2444122e-01,  4.9570924e-01],\n",
      "       [-5.3340453e-01,  9.2446935e-01,  4.5156159e-04,  6.5289420e-01],\n",
      "       [ 8.9316767e-01, -5.2679384e-01,  6.3073051e-01, -1.0817035e-01]],\n",
      "      dtype=float32), array([-2.8879135,  2.9120042, -2.8429165,  2.3502774], dtype=float32)]\n",
      "These are the l2variebles : [array([[-1.4123036 ],\n",
      "       [ 0.96937543],\n",
      "       [-0.9385954 ],\n",
      "       [ 0.8875802 ]], dtype=float32), array([2.856388], dtype=float32)]\n"
     ]
    },
    {
     "data": {
      "image/png": "[encoded data removed]",
      "text/plain": [
       "<Figure size 432x288 with 1 Axes>"
      ]
     },
     "metadata": {
      "needs_background": "light"
     },
     "output_type": "display_data"
    }
   ],
   "source": [
    "\n",
    "import tensorflow as tf\n",
    "tf.logging.set_verbosity(tf.logging.ERROR)\n",
    "\n",
    "import numpy as np\n",
    "\n",
    "celsius_q=np.array([-40,-10,0,8,15,22,38], dtype=float)\n",
    "fahrenheit_a=np.array([-40,14,32,46,59,72,100],dtype=float)\n",
    "\n",
    "l0=tf.keras.layers.Dense(units=4,input_shape=[1])\n",
    "l1=tf.keras.layers.Dense(units=4)\n",
    "l2=tf.keras.layers.Dense(units=1)\n",
    "\n",
    "model=tf.keras.Sequential([l0,l1,l2])\n",
    "model.compile(loss='mean_squared_error',optimizer=tf.keras.optimizers.Adam(0.1))\n",
    "naveen=model.fit(celsius_q,fahrenheit_a,epochs=500,verbose=False)\n",
    "\n",
    "print(\"The  model is Trained\")\n",
    "\n",
    "import matplotlib.pyplot as plt\n",
    "plt.xlabel('Epoch Number')\n",
    "plt.ylabel('Loss Magnitude')\n",
    "plt.plot(naveen.history['loss'])\n",
    "\n",
    "print(model.predict([32]))\n",
    "\n",
    "print(\"These are the l0variebles : {}\".format(l0.get_weights()))\n",
    "print(\"These are the l1variebles : {}\".format(l1.get_weights()))\n",
    "print(\"These are the l2variebles : {}\".format(l2.get_weights()))\n",
    "\n",
    "\n",
    "\n",
    "\n",
    "\n",
    "\n"
   ]
  },
  {
   "cell_type": "code",
   "execution_count": null,
   "metadata": {},
   "outputs": [],
   "source": []
  }
 ],
 "metadata": {
  "kernelspec": {
   "display_name": "Python 3",
   "language": "python",
   "name": "python3"
  },
  "language_info": {
   "codemirror_mode": {
    "name": "ipython",
    "version": 3
   },
   "file_extension": ".py",
   "mimetype": "text/x-python",
   "name": "python",
   "nbconvert_exporter": "python",
   "pygments_lexer": "ipython3",
   "version": "3.7.1"
  }
 },
 "nbformat": 4,
 "nbformat_minor": 2
}
